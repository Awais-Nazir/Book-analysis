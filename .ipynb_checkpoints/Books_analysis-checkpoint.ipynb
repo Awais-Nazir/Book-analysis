{
 "cells": [
  {
   "cell_type": "markdown",
   "id": "4fad4853-b9c5-4417-b42d-10936389b86b",
   "metadata": {},
   "source": [
    "# BOOK STORE ANALYSIS"
   ]
  },
  {
   "cell_type": "code",
   "execution_count": 1,
   "id": "d443a3ef-ac84-465a-9716-826167357408",
   "metadata": {},
   "outputs": [],
   "source": [
    "import numpy as np\n",
    "import pandas as pd\n",
    "import matplotlib.pyplot as plt\n",
    "import seaborn as sns\n"
   ]
  },
  {
   "cell_type": "code",
   "execution_count": 2,
   "id": "09af456e-8cc4-43bf-844e-8065199ecb9a",
   "metadata": {},
   "outputs": [
    {
     "data": {
      "text/html": [
       "<div>\n",
       "<style scoped>\n",
       "    .dataframe tbody tr th:only-of-type {\n",
       "        vertical-align: middle;\n",
       "    }\n",
       "\n",
       "    .dataframe tbody tr th {\n",
       "        vertical-align: top;\n",
       "    }\n",
       "\n",
       "    .dataframe thead th {\n",
       "        text-align: right;\n",
       "    }\n",
       "</style>\n",
       "<table border=\"1\" class=\"dataframe\">\n",
       "  <thead>\n",
       "    <tr style=\"text-align: right;\">\n",
       "      <th></th>\n",
       "      <th>Book</th>\n",
       "      <th>Author(s)</th>\n",
       "      <th>Original language</th>\n",
       "      <th>First published</th>\n",
       "      <th>Approximate sales</th>\n",
       "      <th>Genre</th>\n",
       "    </tr>\n",
       "  </thead>\n",
       "  <tbody>\n",
       "    <tr>\n",
       "      <th>0</th>\n",
       "      <td>A Tale of Two Cities</td>\n",
       "      <td>Charles Dickens</td>\n",
       "      <td>English</td>\n",
       "      <td>1859</td>\n",
       "      <td>&gt;200 million[20][circular reporting?]</td>\n",
       "      <td>Historical fiction</td>\n",
       "    </tr>\n",
       "    <tr>\n",
       "      <th>1</th>\n",
       "      <td>The Little Prince (Le Petit Prince)</td>\n",
       "      <td>Antoine de Saint-Exupéry</td>\n",
       "      <td>French</td>\n",
       "      <td>1943</td>\n",
       "      <td>200 million[21][22]</td>\n",
       "      <td>Fantasy, Children's fiction</td>\n",
       "    </tr>\n",
       "    <tr>\n",
       "      <th>2</th>\n",
       "      <td>Harry Potter and the Philosopher's Stone</td>\n",
       "      <td>J. K. Rowling</td>\n",
       "      <td>English</td>\n",
       "      <td>1997</td>\n",
       "      <td>120 million[23][24]</td>\n",
       "      <td>Fantasy, Children's fiction</td>\n",
       "    </tr>\n",
       "    <tr>\n",
       "      <th>3</th>\n",
       "      <td>And Then There Were None</td>\n",
       "      <td>Agatha Christie</td>\n",
       "      <td>English</td>\n",
       "      <td>1939</td>\n",
       "      <td>100 million[25]</td>\n",
       "      <td>Mystery</td>\n",
       "    </tr>\n",
       "    <tr>\n",
       "      <th>4</th>\n",
       "      <td>Dream of the Red Chamber (???)</td>\n",
       "      <td>Cao Xueqin</td>\n",
       "      <td>Chinese</td>\n",
       "      <td>1791</td>\n",
       "      <td>100 million[26][27]</td>\n",
       "      <td>Family saga</td>\n",
       "    </tr>\n",
       "  </tbody>\n",
       "</table>\n",
       "</div>"
      ],
      "text/plain": [
       "                                       Book                 Author(s)  \\\n",
       "0                      A Tale of Two Cities           Charles Dickens   \n",
       "1       The Little Prince (Le Petit Prince)  Antoine de Saint-Exupéry   \n",
       "2  Harry Potter and the Philosopher's Stone             J. K. Rowling   \n",
       "3                  And Then There Were None           Agatha Christie   \n",
       "4            Dream of the Red Chamber (???)                Cao Xueqin   \n",
       "\n",
       "  Original language First published                      Approximate sales  \\\n",
       "0           English            1859  >200 million[20][circular reporting?]   \n",
       "1            French            1943                    200 million[21][22]   \n",
       "2           English            1997                    120 million[23][24]   \n",
       "3           English            1939                        100 million[25]   \n",
       "4           Chinese            1791                    100 million[26][27]   \n",
       "\n",
       "                         Genre  \n",
       "0           Historical fiction  \n",
       "1  Fantasy, Children's fiction  \n",
       "2  Fantasy, Children's fiction  \n",
       "3                      Mystery  \n",
       "4                  Family saga  "
      ]
     },
     "execution_count": 2,
     "metadata": {},
     "output_type": "execute_result"
    }
   ],
   "source": [
    "books = pd.read_csv('Books.csv')\n",
    "books.head()"
   ]
  },
  {
   "cell_type": "code",
   "execution_count": 3,
   "id": "1c1cb13f-982e-4f8c-8873-b9e25b4b8b38",
   "metadata": {},
   "outputs": [
    {
     "data": {
      "text/plain": [
       "Book                 0\n",
       "Author(s)            0\n",
       "Original language    0\n",
       "First published      0\n",
       "Approximate sales    0\n",
       "Genre                0\n",
       "dtype: int64"
      ]
     },
     "execution_count": 3,
     "metadata": {},
     "output_type": "execute_result"
    }
   ],
   "source": [
    "books.isna().sum()\n"
   ]
  },
  {
   "cell_type": "code",
   "execution_count": 7,
   "id": "6b3ef0b9-423b-44a6-a10c-b9eac4e8567e",
   "metadata": {},
   "outputs": [
    {
     "data": {
      "text/plain": [
       "264"
      ]
     },
     "execution_count": 7,
     "metadata": {},
     "output_type": "execute_result"
    }
   ],
   "source": [
    "books['Book'].count()\n"
   ]
  },
  {
   "cell_type": "code",
   "execution_count": 8,
   "id": "2fc8c4dd-3bce-45c1-975f-a6c45e9a59e5",
   "metadata": {},
   "outputs": [
    {
     "data": {
      "text/plain": [
       "Original language\n",
       "English       198\n",
       "German         11\n",
       "French          8\n",
       "Japanese        8\n",
       "Chinese         7\n",
       "Italian         7\n",
       "Spanish         6\n",
       "Russian         6\n",
       "Swedish         3\n",
       "Norwegian       2\n",
       "Yiddish         2\n",
       "Gujarati        2\n",
       "Hindi           1\n",
       "Portuguese      1\n",
       "Dutch           1\n",
       "Czech           1\n",
       "Name: count, dtype: int64"
      ]
     },
     "execution_count": 8,
     "metadata": {},
     "output_type": "execute_result"
    }
   ],
   "source": [
    "books['Original language'].value_counts()"
   ]
  },
  {
   "cell_type": "code",
   "execution_count": 10,
   "id": "628ef7b0-34d5-4211-9f8c-24481d0ef883",
   "metadata": {},
   "outputs": [
    {
     "data": {
      "text/plain": [
       "74"
      ]
     },
     "execution_count": 10,
     "metadata": {},
     "output_type": "execute_result"
    }
   ],
   "source": [
    "books['Genre'].value_counts().count()"
   ]
  },
  {
   "cell_type": "code",
   "execution_count": 16,
   "id": "2ac3ff48-3afa-4ddf-9ece-ee690675c163",
   "metadata": {},
   "outputs": [],
   "source": [
    "books['sales'] = books['Approximate sales'].astype(str)"
   ]
  },
  {
   "cell_type": "code",
   "execution_count": 17,
   "id": "6d110a62-59a0-430f-91a4-69c7e681998a",
   "metadata": {},
   "outputs": [
    {
     "data": {
      "text/plain": [
       "Book                 object\n",
       "Author(s)            object\n",
       "Original language    object\n",
       "First published      object\n",
       "Approximate sales    object\n",
       "Genre                object\n",
       "sales                object\n",
       "dtype: object"
      ]
     },
     "execution_count": 17,
     "metadata": {},
     "output_type": "execute_result"
    }
   ],
   "source": [
    "books.dtypes"
   ]
  },
  {
   "cell_type": "code",
   "execution_count": 24,
   "id": "3a59484f-14bb-47c5-a619-a596f1651aba",
   "metadata": {},
   "outputs": [
    {
     "data": {
      "text/plain": [
       "['>200 million', '20]', 'circular reporting?]']"
      ]
     },
     "execution_count": 24,
     "metadata": {},
     "output_type": "execute_result"
    }
   ],
   "source": [
    "books['sales'] = books['Approximate sales'].str.split('[')\n",
    "sales"
   ]
  },
  {
   "cell_type": "code",
   "execution_count": 20,
   "id": "428bcb73-091a-4a29-ae08-625a93b682a4",
   "metadata": {},
   "outputs": [
    {
     "data": {
      "text/plain": [
       "['>200 million', '20]', 'circular reporting?]']"
      ]
     },
     "execution_count": 20,
     "metadata": {},
     "output_type": "execute_result"
    }
   ],
   "source": []
  },
  {
   "cell_type": "code",
   "execution_count": 27,
   "id": "289f2eff-8adb-4d09-a954-a36effd91a52",
   "metadata": {},
   "outputs": [
    {
     "data": {
      "text/html": [
       "<div>\n",
       "<style scoped>\n",
       "    .dataframe tbody tr th:only-of-type {\n",
       "        vertical-align: middle;\n",
       "    }\n",
       "\n",
       "    .dataframe tbody tr th {\n",
       "        vertical-align: top;\n",
       "    }\n",
       "\n",
       "    .dataframe thead th {\n",
       "        text-align: right;\n",
       "    }\n",
       "</style>\n",
       "<table border=\"1\" class=\"dataframe\">\n",
       "  <thead>\n",
       "    <tr style=\"text-align: right;\">\n",
       "      <th></th>\n",
       "      <th>Book</th>\n",
       "      <th>Author(s)</th>\n",
       "      <th>Original language</th>\n",
       "      <th>First published</th>\n",
       "      <th>Approximate sales</th>\n",
       "      <th>Genre</th>\n",
       "      <th>sales</th>\n",
       "    </tr>\n",
       "  </thead>\n",
       "  <tbody>\n",
       "    <tr>\n",
       "      <th>0</th>\n",
       "      <td>A Tale of Two Cities</td>\n",
       "      <td>Charles Dickens</td>\n",
       "      <td>English</td>\n",
       "      <td>1859</td>\n",
       "      <td>&gt;200 million[20][circular reporting?]</td>\n",
       "      <td>Historical fiction</td>\n",
       "      <td>[&gt;200 million, 20], circular reporting?]]</td>\n",
       "    </tr>\n",
       "    <tr>\n",
       "      <th>1</th>\n",
       "      <td>The Little Prince (Le Petit Prince)</td>\n",
       "      <td>Antoine de Saint-Exupéry</td>\n",
       "      <td>French</td>\n",
       "      <td>1943</td>\n",
       "      <td>200 million[21][22]</td>\n",
       "      <td>Fantasy, Children's fiction</td>\n",
       "      <td>[200 million, 21], 22]]</td>\n",
       "    </tr>\n",
       "    <tr>\n",
       "      <th>2</th>\n",
       "      <td>Harry Potter and the Philosopher's Stone</td>\n",
       "      <td>J. K. Rowling</td>\n",
       "      <td>English</td>\n",
       "      <td>1997</td>\n",
       "      <td>120 million[23][24]</td>\n",
       "      <td>Fantasy, Children's fiction</td>\n",
       "      <td>[120 million, 23], 24]]</td>\n",
       "    </tr>\n",
       "    <tr>\n",
       "      <th>3</th>\n",
       "      <td>And Then There Were None</td>\n",
       "      <td>Agatha Christie</td>\n",
       "      <td>English</td>\n",
       "      <td>1939</td>\n",
       "      <td>100 million[25]</td>\n",
       "      <td>Mystery</td>\n",
       "      <td>[100 million, 25]]</td>\n",
       "    </tr>\n",
       "    <tr>\n",
       "      <th>4</th>\n",
       "      <td>Dream of the Red Chamber (???)</td>\n",
       "      <td>Cao Xueqin</td>\n",
       "      <td>Chinese</td>\n",
       "      <td>1791</td>\n",
       "      <td>100 million[26][27]</td>\n",
       "      <td>Family saga</td>\n",
       "      <td>[100 million, 26], 27]]</td>\n",
       "    </tr>\n",
       "  </tbody>\n",
       "</table>\n",
       "</div>"
      ],
      "text/plain": [
       "                                       Book                 Author(s)  \\\n",
       "0                      A Tale of Two Cities           Charles Dickens   \n",
       "1       The Little Prince (Le Petit Prince)  Antoine de Saint-Exupéry   \n",
       "2  Harry Potter and the Philosopher's Stone             J. K. Rowling   \n",
       "3                  And Then There Were None           Agatha Christie   \n",
       "4            Dream of the Red Chamber (???)                Cao Xueqin   \n",
       "\n",
       "  Original language First published                      Approximate sales  \\\n",
       "0           English            1859  >200 million[20][circular reporting?]   \n",
       "1            French            1943                    200 million[21][22]   \n",
       "2           English            1997                    120 million[23][24]   \n",
       "3           English            1939                        100 million[25]   \n",
       "4           Chinese            1791                    100 million[26][27]   \n",
       "\n",
       "                         Genre                                      sales  \n",
       "0           Historical fiction  [>200 million, 20], circular reporting?]]  \n",
       "1  Fantasy, Children's fiction                    [200 million, 21], 22]]  \n",
       "2  Fantasy, Children's fiction                    [120 million, 23], 24]]  \n",
       "3                      Mystery                         [100 million, 25]]  \n",
       "4                  Family saga                    [100 million, 26], 27]]  "
      ]
     },
     "execution_count": 27,
     "metadata": {},
     "output_type": "execute_result"
    }
   ],
   "source": [
    "books.head()"
   ]
  },
  {
   "cell_type": "code",
   "execution_count": 28,
   "id": "28a9f560-d559-499b-aa3f-dd772043457e",
   "metadata": {},
   "outputs": [
    {
     "data": {
      "text/html": [
       "<div>\n",
       "<style scoped>\n",
       "    .dataframe tbody tr th:only-of-type {\n",
       "        vertical-align: middle;\n",
       "    }\n",
       "\n",
       "    .dataframe tbody tr th {\n",
       "        vertical-align: top;\n",
       "    }\n",
       "\n",
       "    .dataframe thead th {\n",
       "        text-align: right;\n",
       "    }\n",
       "</style>\n",
       "<table border=\"1\" class=\"dataframe\">\n",
       "  <thead>\n",
       "    <tr style=\"text-align: right;\">\n",
       "      <th></th>\n",
       "      <th>Book</th>\n",
       "      <th>Author(s)</th>\n",
       "      <th>Original language</th>\n",
       "      <th>First published</th>\n",
       "      <th>Approximate sales</th>\n",
       "      <th>Genre</th>\n",
       "      <th>sales</th>\n",
       "    </tr>\n",
       "  </thead>\n",
       "  <tbody>\n",
       "    <tr>\n",
       "      <th>0</th>\n",
       "      <td>A Tale of Two Cities</td>\n",
       "      <td>Charles Dickens</td>\n",
       "      <td>English</td>\n",
       "      <td>1859</td>\n",
       "      <td>&gt;200 million[20][circular reporting?]</td>\n",
       "      <td>Historical fiction</td>\n",
       "      <td>&gt;200 million</td>\n",
       "    </tr>\n",
       "    <tr>\n",
       "      <th>1</th>\n",
       "      <td>The Little Prince (Le Petit Prince)</td>\n",
       "      <td>Antoine de Saint-Exupéry</td>\n",
       "      <td>French</td>\n",
       "      <td>1943</td>\n",
       "      <td>200 million[21][22]</td>\n",
       "      <td>Fantasy, Children's fiction</td>\n",
       "      <td>200 million</td>\n",
       "    </tr>\n",
       "    <tr>\n",
       "      <th>2</th>\n",
       "      <td>Harry Potter and the Philosopher's Stone</td>\n",
       "      <td>J. K. Rowling</td>\n",
       "      <td>English</td>\n",
       "      <td>1997</td>\n",
       "      <td>120 million[23][24]</td>\n",
       "      <td>Fantasy, Children's fiction</td>\n",
       "      <td>120 million</td>\n",
       "    </tr>\n",
       "    <tr>\n",
       "      <th>3</th>\n",
       "      <td>And Then There Were None</td>\n",
       "      <td>Agatha Christie</td>\n",
       "      <td>English</td>\n",
       "      <td>1939</td>\n",
       "      <td>100 million[25]</td>\n",
       "      <td>Mystery</td>\n",
       "      <td>100 million</td>\n",
       "    </tr>\n",
       "    <tr>\n",
       "      <th>4</th>\n",
       "      <td>Dream of the Red Chamber (???)</td>\n",
       "      <td>Cao Xueqin</td>\n",
       "      <td>Chinese</td>\n",
       "      <td>1791</td>\n",
       "      <td>100 million[26][27]</td>\n",
       "      <td>Family saga</td>\n",
       "      <td>100 million</td>\n",
       "    </tr>\n",
       "  </tbody>\n",
       "</table>\n",
       "</div>"
      ],
      "text/plain": [
       "                                       Book                 Author(s)  \\\n",
       "0                      A Tale of Two Cities           Charles Dickens   \n",
       "1       The Little Prince (Le Petit Prince)  Antoine de Saint-Exupéry   \n",
       "2  Harry Potter and the Philosopher's Stone             J. K. Rowling   \n",
       "3                  And Then There Were None           Agatha Christie   \n",
       "4            Dream of the Red Chamber (???)                Cao Xueqin   \n",
       "\n",
       "  Original language First published                      Approximate sales  \\\n",
       "0           English            1859  >200 million[20][circular reporting?]   \n",
       "1            French            1943                    200 million[21][22]   \n",
       "2           English            1997                    120 million[23][24]   \n",
       "3           English            1939                        100 million[25]   \n",
       "4           Chinese            1791                    100 million[26][27]   \n",
       "\n",
       "                         Genre         sales  \n",
       "0           Historical fiction  >200 million  \n",
       "1  Fantasy, Children's fiction   200 million  \n",
       "2  Fantasy, Children's fiction   120 million  \n",
       "3                      Mystery   100 million  \n",
       "4                  Family saga   100 million  "
      ]
     },
     "execution_count": 28,
     "metadata": {},
     "output_type": "execute_result"
    }
   ],
   "source": [
    "books['sales'] = books['Approximate sales'].str.split('[', expand = True)[0]\n",
    "books.head()"
   ]
  },
  {
   "cell_type": "code",
   "execution_count": 43,
   "id": "c93977fd-da94-42a7-af84-9800257e7a4e",
   "metadata": {},
   "outputs": [
    {
     "data": {
      "text/html": [
       "<div>\n",
       "<style scoped>\n",
       "    .dataframe tbody tr th:only-of-type {\n",
       "        vertical-align: middle;\n",
       "    }\n",
       "\n",
       "    .dataframe tbody tr th {\n",
       "        vertical-align: top;\n",
       "    }\n",
       "\n",
       "    .dataframe thead th {\n",
       "        text-align: right;\n",
       "    }\n",
       "</style>\n",
       "<table border=\"1\" class=\"dataframe\">\n",
       "  <thead>\n",
       "    <tr style=\"text-align: right;\">\n",
       "      <th></th>\n",
       "      <th>Book</th>\n",
       "      <th>Author(s)</th>\n",
       "      <th>Original language</th>\n",
       "      <th>First published</th>\n",
       "      <th>Approximate sales</th>\n",
       "      <th>Genre</th>\n",
       "      <th>sales</th>\n",
       "    </tr>\n",
       "  </thead>\n",
       "  <tbody>\n",
       "    <tr>\n",
       "      <th>0</th>\n",
       "      <td>A Tale of Two Cities</td>\n",
       "      <td>Charles Dickens</td>\n",
       "      <td>English</td>\n",
       "      <td>1859</td>\n",
       "      <td>&gt;200 million[20][circular reporting?]</td>\n",
       "      <td>Historical fiction</td>\n",
       "      <td>&gt;200</td>\n",
       "    </tr>\n",
       "    <tr>\n",
       "      <th>1</th>\n",
       "      <td>The Little Prince (Le Petit Prince)</td>\n",
       "      <td>Antoine de Saint-Exupéry</td>\n",
       "      <td>French</td>\n",
       "      <td>1943</td>\n",
       "      <td>200 million[21][22]</td>\n",
       "      <td>Fantasy, Children's fiction</td>\n",
       "      <td>200</td>\n",
       "    </tr>\n",
       "    <tr>\n",
       "      <th>2</th>\n",
       "      <td>Harry Potter and the Philosopher's Stone</td>\n",
       "      <td>J. K. Rowling</td>\n",
       "      <td>English</td>\n",
       "      <td>1997</td>\n",
       "      <td>120 million[23][24]</td>\n",
       "      <td>Fantasy, Children's fiction</td>\n",
       "      <td>120</td>\n",
       "    </tr>\n",
       "    <tr>\n",
       "      <th>3</th>\n",
       "      <td>And Then There Were None</td>\n",
       "      <td>Agatha Christie</td>\n",
       "      <td>English</td>\n",
       "      <td>1939</td>\n",
       "      <td>100 million[25]</td>\n",
       "      <td>Mystery</td>\n",
       "      <td>100</td>\n",
       "    </tr>\n",
       "    <tr>\n",
       "      <th>4</th>\n",
       "      <td>Dream of the Red Chamber (???)</td>\n",
       "      <td>Cao Xueqin</td>\n",
       "      <td>Chinese</td>\n",
       "      <td>1791</td>\n",
       "      <td>100 million[26][27]</td>\n",
       "      <td>Family saga</td>\n",
       "      <td>100</td>\n",
       "    </tr>\n",
       "    <tr>\n",
       "      <th>5</th>\n",
       "      <td>The Hobbit</td>\n",
       "      <td>J. R. R. Tolkien</td>\n",
       "      <td>English</td>\n",
       "      <td>1937</td>\n",
       "      <td>100 million[28][29][30]</td>\n",
       "      <td>Fantasy, Children's fiction</td>\n",
       "      <td>100</td>\n",
       "    </tr>\n",
       "    <tr>\n",
       "      <th>6</th>\n",
       "      <td>She: A History of Adventure</td>\n",
       "      <td>H. Rider Haggard</td>\n",
       "      <td>English</td>\n",
       "      <td>1887</td>\n",
       "      <td>83 million[31]</td>\n",
       "      <td>Adventure</td>\n",
       "      <td>83</td>\n",
       "    </tr>\n",
       "    <tr>\n",
       "      <th>7</th>\n",
       "      <td>Vardi Wala Gunda (????? ???? ?????)</td>\n",
       "      <td>Ved Prakash Sharma</td>\n",
       "      <td>Hindi</td>\n",
       "      <td>1992</td>\n",
       "      <td>&gt;80 million[32][better source needed]</td>\n",
       "      <td>Detective</td>\n",
       "      <td>&gt;80</td>\n",
       "    </tr>\n",
       "    <tr>\n",
       "      <th>8</th>\n",
       "      <td>The Da Vinci Code</td>\n",
       "      <td>Dan Brown</td>\n",
       "      <td>English</td>\n",
       "      <td>2003</td>\n",
       "      <td>80 million[33]</td>\n",
       "      <td>Mystery thriller</td>\n",
       "      <td>80</td>\n",
       "    </tr>\n",
       "    <tr>\n",
       "      <th>9</th>\n",
       "      <td>Harry Potter and the Chamber of Secrets</td>\n",
       "      <td>J. K. Rowling</td>\n",
       "      <td>English</td>\n",
       "      <td>1998</td>\n",
       "      <td>77 million[34]</td>\n",
       "      <td>Fantasy</td>\n",
       "      <td>77</td>\n",
       "    </tr>\n",
       "  </tbody>\n",
       "</table>\n",
       "</div>"
      ],
      "text/plain": [
       "                                       Book                 Author(s)  \\\n",
       "0                      A Tale of Two Cities           Charles Dickens   \n",
       "1       The Little Prince (Le Petit Prince)  Antoine de Saint-Exupéry   \n",
       "2  Harry Potter and the Philosopher's Stone             J. K. Rowling   \n",
       "3                  And Then There Were None           Agatha Christie   \n",
       "4            Dream of the Red Chamber (???)                Cao Xueqin   \n",
       "5                                The Hobbit          J. R. R. Tolkien   \n",
       "6               She: A History of Adventure          H. Rider Haggard   \n",
       "7       Vardi Wala Gunda (????? ???? ?????)        Ved Prakash Sharma   \n",
       "8                         The Da Vinci Code                 Dan Brown   \n",
       "9   Harry Potter and the Chamber of Secrets             J. K. Rowling   \n",
       "\n",
       "  Original language First published                      Approximate sales  \\\n",
       "0           English            1859  >200 million[20][circular reporting?]   \n",
       "1            French            1943                    200 million[21][22]   \n",
       "2           English            1997                    120 million[23][24]   \n",
       "3           English            1939                        100 million[25]   \n",
       "4           Chinese            1791                    100 million[26][27]   \n",
       "5           English            1937                100 million[28][29][30]   \n",
       "6           English            1887                         83 million[31]   \n",
       "7             Hindi            1992  >80 million[32][better source needed]   \n",
       "8           English            2003                         80 million[33]   \n",
       "9           English            1998                         77 million[34]   \n",
       "\n",
       "                         Genre sales  \n",
       "0           Historical fiction  >200  \n",
       "1  Fantasy, Children's fiction   200  \n",
       "2  Fantasy, Children's fiction   120  \n",
       "3                      Mystery   100  \n",
       "4                  Family saga   100  \n",
       "5  Fantasy, Children's fiction   100  \n",
       "6                    Adventure    83  \n",
       "7                    Detective   >80  \n",
       "8             Mystery thriller    80  \n",
       "9                      Fantasy    77  "
      ]
     },
     "execution_count": 43,
     "metadata": {},
     "output_type": "execute_result"
    }
   ],
   "source": [
    "books['sales'] = books['sales'].str.split(' ', expand = True)[0]\n",
    "books['sales'] = books.sales.astype(str)\n",
    "books.head(10)"
   ]
  },
  {
   "cell_type": "code",
   "execution_count": 30,
   "id": "e1137482-cc1e-48b9-83ce-a1af9594d906",
   "metadata": {},
   "outputs": [
    {
     "data": {
      "text/plain": [
       "0      >200\n",
       "1       200\n",
       "2       120\n",
       "3       100\n",
       "4       100\n",
       "       ... \n",
       "259      10\n",
       "260      82\n",
       "261      75\n",
       "262     >70\n",
       "263      55\n",
       "Name: sales, Length: 264, dtype: object"
      ]
     },
     "execution_count": 30,
     "metadata": {},
     "output_type": "execute_result"
    }
   ],
   "source": [
    "books['sales']"
   ]
  },
  {
   "cell_type": "code",
   "execution_count": 45,
   "id": "3eedb98e-ae38-43ca-b8a4-b81ea8933885",
   "metadata": {},
   "outputs": [
    {
     "data": {
      "text/html": [
       "<div>\n",
       "<style scoped>\n",
       "    .dataframe tbody tr th:only-of-type {\n",
       "        vertical-align: middle;\n",
       "    }\n",
       "\n",
       "    .dataframe tbody tr th {\n",
       "        vertical-align: top;\n",
       "    }\n",
       "\n",
       "    .dataframe thead th {\n",
       "        text-align: right;\n",
       "    }\n",
       "</style>\n",
       "<table border=\"1\" class=\"dataframe\">\n",
       "  <thead>\n",
       "    <tr style=\"text-align: right;\">\n",
       "      <th></th>\n",
       "      <th>Book</th>\n",
       "      <th>Author(s)</th>\n",
       "      <th>Original language</th>\n",
       "      <th>First published</th>\n",
       "      <th>Approximate sales</th>\n",
       "      <th>Genre</th>\n",
       "      <th>sales</th>\n",
       "    </tr>\n",
       "  </thead>\n",
       "  <tbody>\n",
       "    <tr>\n",
       "      <th>0</th>\n",
       "      <td>A Tale of Two Cities</td>\n",
       "      <td>Charles Dickens</td>\n",
       "      <td>English</td>\n",
       "      <td>1859</td>\n",
       "      <td>&gt;200 million[20][circular reporting?]</td>\n",
       "      <td>Historical fiction</td>\n",
       "      <td>&gt;200</td>\n",
       "    </tr>\n",
       "    <tr>\n",
       "      <th>2</th>\n",
       "      <td>Harry Potter and the Philosopher's Stone</td>\n",
       "      <td>J. K. Rowling</td>\n",
       "      <td>English</td>\n",
       "      <td>1997</td>\n",
       "      <td>120 million[23][24]</td>\n",
       "      <td>Fantasy, Children's fiction</td>\n",
       "      <td>120</td>\n",
       "    </tr>\n",
       "    <tr>\n",
       "      <th>3</th>\n",
       "      <td>And Then There Were None</td>\n",
       "      <td>Agatha Christie</td>\n",
       "      <td>English</td>\n",
       "      <td>1939</td>\n",
       "      <td>100 million[25]</td>\n",
       "      <td>Mystery</td>\n",
       "      <td>100</td>\n",
       "    </tr>\n",
       "    <tr>\n",
       "      <th>5</th>\n",
       "      <td>The Hobbit</td>\n",
       "      <td>J. R. R. Tolkien</td>\n",
       "      <td>English</td>\n",
       "      <td>1937</td>\n",
       "      <td>100 million[28][29][30]</td>\n",
       "      <td>Fantasy, Children's fiction</td>\n",
       "      <td>100</td>\n",
       "    </tr>\n",
       "    <tr>\n",
       "      <th>6</th>\n",
       "      <td>She: A History of Adventure</td>\n",
       "      <td>H. Rider Haggard</td>\n",
       "      <td>English</td>\n",
       "      <td>1887</td>\n",
       "      <td>83 million[31]</td>\n",
       "      <td>Adventure</td>\n",
       "      <td>83</td>\n",
       "    </tr>\n",
       "    <tr>\n",
       "      <th>...</th>\n",
       "      <td>...</td>\n",
       "      <td>...</td>\n",
       "      <td>...</td>\n",
       "      <td>...</td>\n",
       "      <td>...</td>\n",
       "      <td>...</td>\n",
       "      <td>...</td>\n",
       "    </tr>\n",
       "    <tr>\n",
       "      <th>257</th>\n",
       "      <td>Angela's Ashes</td>\n",
       "      <td>Frank McCourt</td>\n",
       "      <td>English</td>\n",
       "      <td>1996</td>\n",
       "      <td>10 million[184]</td>\n",
       "      <td>Erotica</td>\n",
       "      <td>10</td>\n",
       "    </tr>\n",
       "    <tr>\n",
       "      <th>259</th>\n",
       "      <td>Bridget Jones's Diary</td>\n",
       "      <td>Helen Fielding</td>\n",
       "      <td>English</td>\n",
       "      <td>1996</td>\n",
       "      <td>10 million (as of 2005)[186]</td>\n",
       "      <td>Erotica</td>\n",
       "      <td>10</td>\n",
       "    </tr>\n",
       "    <tr>\n",
       "      <th>260</th>\n",
       "      <td>World Almanac (published every year)</td>\n",
       "      <td>Various authors</td>\n",
       "      <td>English</td>\n",
       "      <td>186876; 1886present</td>\n",
       "      <td>82 million[325][326]</td>\n",
       "      <td>Erotica</td>\n",
       "      <td>82</td>\n",
       "    </tr>\n",
       "    <tr>\n",
       "      <th>261</th>\n",
       "      <td>Betty Crocker Cookbook</td>\n",
       "      <td>General Mills staff</td>\n",
       "      <td>English</td>\n",
       "      <td>19502016 (12th edition)</td>\n",
       "      <td>75 million[327]</td>\n",
       "      <td>Erotica</td>\n",
       "      <td>75</td>\n",
       "    </tr>\n",
       "    <tr>\n",
       "      <th>263</th>\n",
       "      <td>Merriam-Webster's Collegiate Dictionary</td>\n",
       "      <td>Merriam-Webster</td>\n",
       "      <td>English</td>\n",
       "      <td>1898</td>\n",
       "      <td>55 million[329]</td>\n",
       "      <td>Erotica</td>\n",
       "      <td>55</td>\n",
       "    </tr>\n",
       "  </tbody>\n",
       "</table>\n",
       "<p>198 rows × 7 columns</p>\n",
       "</div>"
      ],
      "text/plain": [
       "                                         Book            Author(s)  \\\n",
       "0                        A Tale of Two Cities      Charles Dickens   \n",
       "2    Harry Potter and the Philosopher's Stone        J. K. Rowling   \n",
       "3                    And Then There Were None      Agatha Christie   \n",
       "5                                  The Hobbit     J. R. R. Tolkien   \n",
       "6                 She: A History of Adventure     H. Rider Haggard   \n",
       "..                                        ...                  ...   \n",
       "257                            Angela's Ashes        Frank McCourt   \n",
       "259                     Bridget Jones's Diary       Helen Fielding   \n",
       "260      World Almanac (published every year)      Various authors   \n",
       "261                    Betty Crocker Cookbook  General Mills staff   \n",
       "263   Merriam-Webster's Collegiate Dictionary      Merriam-Webster   \n",
       "\n",
       "    Original language           First published  \\\n",
       "0             English                      1859   \n",
       "2             English                      1997   \n",
       "3             English                      1939   \n",
       "5             English                      1937   \n",
       "6             English                      1887   \n",
       "..                ...                       ...   \n",
       "257           English                      1996   \n",
       "259           English                      1996   \n",
       "260           English     186876; 1886present   \n",
       "261           English  19502016 (12th edition)   \n",
       "263           English                      1898   \n",
       "\n",
       "                         Approximate sales                        Genre sales  \n",
       "0    >200 million[20][circular reporting?]           Historical fiction  >200  \n",
       "2                      120 million[23][24]  Fantasy, Children's fiction   120  \n",
       "3                          100 million[25]                      Mystery   100  \n",
       "5                  100 million[28][29][30]  Fantasy, Children's fiction   100  \n",
       "6                           83 million[31]                    Adventure    83  \n",
       "..                                     ...                          ...   ...  \n",
       "257                        10 million[184]                      Erotica    10  \n",
       "259           10 million (as of 2005)[186]                      Erotica    10  \n",
       "260                   82 million[325][326]                      Erotica    82  \n",
       "261                        75 million[327]                      Erotica    75  \n",
       "263                        55 million[329]                      Erotica    55  \n",
       "\n",
       "[198 rows x 7 columns]"
      ]
     },
     "execution_count": 45,
     "metadata": {},
     "output_type": "execute_result"
    }
   ],
   "source": [
    "\n",
    "books[books['Original language']=='English']"
   ]
  },
  {
   "cell_type": "code",
   "execution_count": 47,
   "id": "696a7c77-5ec6-4a12-8cdf-019bbbadd7cf",
   "metadata": {},
   "outputs": [
    {
     "data": {
      "text/plain": [
       "<Axes: xlabel='Original language'>"
      ]
     },
     "execution_count": 47,
     "metadata": {},
     "output_type": "execute_result"
    },
    {
     "data": {
      "image/png": "[encoded data removed]",
      "text/plain": [
       "<Figure size 640x480 with 1 Axes>"
      ]
     },
     "metadata": {},
     "output_type": "display_data"
    }
   ],
   "source": [
    "books['Original language'].value_counts().plot(kind= 'bar', color = 'red')"
   ]
  },
  {
   "cell_type": "code",
   "execution_count": 53,
   "id": "24165912-78c5-4b5f-bb75-f6198d89db84",
   "metadata": {},
   "outputs": [
    {
     "data": {
      "text/plain": [
       "264"
      ]
     },
     "execution_count": 53,
     "metadata": {},
     "output_type": "execute_result"
    }
   ],
   "source": [
    "books['sales'].count()"
   ]
  },
  {
   "cell_type": "code",
   "execution_count": 66,
   "id": "ab29dd59-c0f1-466d-bb7a-7271da9cf7f9",
   "metadata": {},
   "outputs": [
    {
     "data": {
      "text/plain": [
       "0      200\n",
       "1      200\n",
       "2      120\n",
       "3      100\n",
       "4      100\n",
       "      ... \n",
       "259     10\n",
       "260     82\n",
       "261     75\n",
       "262     70\n",
       "263     55\n",
       "Name: sales, Length: 264, dtype: object"
      ]
     },
     "execution_count": 66,
     "metadata": {},
     "output_type": "execute_result"
    }
   ],
   "source": [
    "for i in range(264):\n",
    "    if (books['sales'][i]).startswith(\">\"):\n",
    "        books['sales'][i] = books['sales'][i][1:] \n",
    "books['sales']"
   ]
  },
  {
   "cell_type": "code",
   "execution_count": 54,
   "id": "6f07f65b-1f22-435d-8e76-e8fb6fbed51e",
   "metadata": {},
   "outputs": [
    {
     "data": {
      "text/plain": [
       "'>200'"
      ]
     },
     "execution_count": 54,
     "metadata": {},
     "output_type": "execute_result"
    }
   ],
   "source": [
    "books['sales'][0]"
   ]
  },
  {
   "cell_type": "code",
   "execution_count": 63,
   "id": "1d626e17-7208-4353-843c-adb9ed14a477",
   "metadata": {},
   "outputs": [
    {
     "data": {
      "text/plain": [
       "'200'"
      ]
     },
     "execution_count": 63,
     "metadata": {},
     "output_type": "execute_result"
    }
   ],
   "source": [
    "if (books['sales'][0]).startswith(\">\"):\n",
    "        books['sales'][0] = books['sales'][0][1:]\n",
    "\n",
    "books['sales'][0]"
   ]
  },
  {
   "cell_type": "code",
   "execution_count": 95,
   "id": "142843bc-cb0b-4953-8294-4449a9296d88",
   "metadata": {},
   "outputs": [],
   "source": [
    "books['sales'] = books.sales.astype(int)"
   ]
  },
  {
   "cell_type": "code",
   "execution_count": 68,
   "id": "2ecb13fc-964b-404d-af69-6edd1dbe3885",
   "metadata": {},
   "outputs": [],
   "source": [
    "for i in range(9264):\n",
    "    l = ''\n",
    "    for j in range(len(books['sales'][i])):\n",
    "        if books['sales'][i][j].isdigit():\n",
    "            l += books['sales'][i][j]\n",
    "    books['sales'][i] = l"
   ]
  },
  {
   "cell_type": "code",
   "execution_count": 76,
   "id": "06104b5f-cb4f-4355-92fd-48e126b70e1c",
   "metadata": {},
   "outputs": [
    {
     "data": {
      "text/plain": [
       "0    200\n",
       "1    200\n",
       "2    120\n",
       "3    100\n",
       "4    100\n",
       "5    100\n",
       "6     83\n",
       "7     80\n",
       "Name: sales, dtype: object"
      ]
     },
     "execution_count": 76,
     "metadata": {},
     "output_type": "execute_result"
    }
   ],
   "source": [
    "books.sales[0:8]"
   ]
  },
  {
   "cell_type": "code",
   "execution_count": 79,
   "id": "30a88bd5-ed5d-47bd-a403-bc8c59953c49",
   "metadata": {},
   "outputs": [],
   "source": [
    "for i in range(10,264):\n",
    "    books['sales'][i] = books['sales'][i][0:2]"
   ]
  },
  {
   "cell_type": "code",
   "execution_count": 80,
   "id": "995eff82-7ce9-491c-8a57-9532355593ee",
   "metadata": {},
   "outputs": [
    {
     "data": {
      "text/plain": [
       "60    40\n",
       "61    40\n",
       "62    40\n",
       "63    40\n",
       "64    39\n",
       "65    37\n",
       "66    36\n",
       "67    36\n",
       "68    35\n",
       "Name: sales, dtype: object"
      ]
     },
     "execution_count": 80,
     "metadata": {},
     "output_type": "execute_result"
    }
   ],
   "source": [
    "books.sales[60:69]"
   ]
  },
  {
   "cell_type": "code",
   "execution_count": 90,
   "id": "9686ffaf-48a4-424c-9e6d-bd7fe0a5fa2d",
   "metadata": {},
   "outputs": [
    {
     "name": "stdout",
     "output_type": "stream",
     "text": [
      "74\n"
     ]
    }
   ],
   "source": [
    "for i in range(10,264):\n",
    "    if len(books['sales'][i])==0:\n",
    "        print(i)"
   ]
  },
  {
   "cell_type": "code",
   "execution_count": 134,
   "id": "b47afeb5-8602-4aab-87fa-c24d02468ef8",
   "metadata": {},
   "outputs": [],
   "source": [
    "# for i in range(264):\n",
    "#     # print(books.sales[i])"
   ]
  },
  {
   "cell_type": "code",
   "execution_count": 94,
   "id": "1680dfce-6a46-43e4-b961-19754ca97875",
   "metadata": {},
   "outputs": [
    {
     "data": {
      "text/plain": [
       "0"
      ]
     },
     "execution_count": 94,
     "metadata": {},
     "output_type": "execute_result"
    }
   ],
   "source": [
    "books.sales[74]"
   ]
  },
  {
   "cell_type": "code",
   "execution_count": 105,
   "id": "48079808-227c-488c-a1b3-af56ad814500",
   "metadata": {},
   "outputs": [
    {
     "data": {
      "text/plain": [
       "<Axes: xlabel='Sales'>"
      ]
     },
     "execution_count": 105,
     "metadata": {},
     "output_type": "execute_result"
    },
    {
     "data": {
      "image/png": "[encoded data removed]",
      "text/plain": [
       "<Figure size 640x480 with 1 Axes>"
      ]
     },
     "metadata": {},
     "output_type": "display_data"
    }
   ],
   "source": [
    "books.sales.describe().plot(kind = 'bar', color = 'blue',xlabel = 'Sales', grid = True)\n"
   ]
  },
  {
   "cell_type": "code",
   "execution_count": 106,
   "id": "17a89cc7-e9e3-4d79-a9eb-f85e0199411b",
   "metadata": {},
   "outputs": [
    {
     "data": {
      "text/html": [
       "<div>\n",
       "<style scoped>\n",
       "    .dataframe tbody tr th:only-of-type {\n",
       "        vertical-align: middle;\n",
       "    }\n",
       "\n",
       "    .dataframe tbody tr th {\n",
       "        vertical-align: top;\n",
       "    }\n",
       "\n",
       "    .dataframe thead th {\n",
       "        text-align: right;\n",
       "    }\n",
       "</style>\n",
       "<table border=\"1\" class=\"dataframe\">\n",
       "  <thead>\n",
       "    <tr style=\"text-align: right;\">\n",
       "      <th></th>\n",
       "      <th>Book</th>\n",
       "      <th>Author(s)</th>\n",
       "      <th>Original language</th>\n",
       "      <th>First published</th>\n",
       "      <th>Approximate sales</th>\n",
       "      <th>Genre</th>\n",
       "      <th>sales</th>\n",
       "    </tr>\n",
       "  </thead>\n",
       "  <tbody>\n",
       "    <tr>\n",
       "      <th>0</th>\n",
       "      <td>A Tale of Two Cities</td>\n",
       "      <td>Charles Dickens</td>\n",
       "      <td>English</td>\n",
       "      <td>1859</td>\n",
       "      <td>&gt;200 million[20][circular reporting?]</td>\n",
       "      <td>Historical fiction</td>\n",
       "      <td>200</td>\n",
       "    </tr>\n",
       "    <tr>\n",
       "      <th>1</th>\n",
       "      <td>The Little Prince (Le Petit Prince)</td>\n",
       "      <td>Antoine de Saint-Exupéry</td>\n",
       "      <td>French</td>\n",
       "      <td>1943</td>\n",
       "      <td>200 million[21][22]</td>\n",
       "      <td>Fantasy, Children's fiction</td>\n",
       "      <td>200</td>\n",
       "    </tr>\n",
       "    <tr>\n",
       "      <th>2</th>\n",
       "      <td>Harry Potter and the Philosopher's Stone</td>\n",
       "      <td>J. K. Rowling</td>\n",
       "      <td>English</td>\n",
       "      <td>1997</td>\n",
       "      <td>120 million[23][24]</td>\n",
       "      <td>Fantasy, Children's fiction</td>\n",
       "      <td>120</td>\n",
       "    </tr>\n",
       "    <tr>\n",
       "      <th>3</th>\n",
       "      <td>And Then There Were None</td>\n",
       "      <td>Agatha Christie</td>\n",
       "      <td>English</td>\n",
       "      <td>1939</td>\n",
       "      <td>100 million[25]</td>\n",
       "      <td>Mystery</td>\n",
       "      <td>100</td>\n",
       "    </tr>\n",
       "    <tr>\n",
       "      <th>4</th>\n",
       "      <td>Dream of the Red Chamber (???)</td>\n",
       "      <td>Cao Xueqin</td>\n",
       "      <td>Chinese</td>\n",
       "      <td>1791</td>\n",
       "      <td>100 million[26][27]</td>\n",
       "      <td>Family saga</td>\n",
       "      <td>100</td>\n",
       "    </tr>\n",
       "  </tbody>\n",
       "</table>\n",
       "</div>"
      ],
      "text/plain": [
       "                                       Book                 Author(s)  \\\n",
       "0                      A Tale of Two Cities           Charles Dickens   \n",
       "1       The Little Prince (Le Petit Prince)  Antoine de Saint-Exupéry   \n",
       "2  Harry Potter and the Philosopher's Stone             J. K. Rowling   \n",
       "3                  And Then There Were None           Agatha Christie   \n",
       "4            Dream of the Red Chamber (???)                Cao Xueqin   \n",
       "\n",
       "  Original language First published                      Approximate sales  \\\n",
       "0           English            1859  >200 million[20][circular reporting?]   \n",
       "1            French            1943                    200 million[21][22]   \n",
       "2           English            1997                    120 million[23][24]   \n",
       "3           English            1939                        100 million[25]   \n",
       "4           Chinese            1791                    100 million[26][27]   \n",
       "\n",
       "                         Genre  sales  \n",
       "0           Historical fiction    200  \n",
       "1  Fantasy, Children's fiction    200  \n",
       "2  Fantasy, Children's fiction    120  \n",
       "3                      Mystery    100  \n",
       "4                  Family saga    100  "
      ]
     },
     "execution_count": 106,
     "metadata": {},
     "output_type": "execute_result"
    }
   ],
   "source": [
    "books.head()"
   ]
  },
  {
   "cell_type": "code",
   "execution_count": 114,
   "id": "68a40bce-7cb6-437b-ad23-84bd16362323",
   "metadata": {},
   "outputs": [
    {
     "data": {
      "text/plain": [
       "Author(s)\n",
       "J. K. Rowling         7\n",
       "Roald Dahl            5\n",
       "Michael Ende          5\n",
       "E. L. James           5\n",
       "Erskine Caldwell      5\n",
       "                     ..\n",
       "Colleen McCullough    1\n",
       "Wayne Dyer            1\n",
       "Anne Frank            1\n",
       "Carlo Collodi         1\n",
       "Merriam-Webster       1\n",
       "Name: count, Length: 153, dtype: int64"
      ]
     },
     "execution_count": 114,
     "metadata": {},
     "output_type": "execute_result"
    }
   ],
   "source": [
    "books['Author(s)'].value_counts()"
   ]
  },
  {
   "cell_type": "code",
   "execution_count": 126,
   "id": "f08c4a44-6f94-4a4d-8b25-737bf4a21046",
   "metadata": {},
   "outputs": [],
   "source": [
    "for i in range(264):\n",
    "    books['First published'][i] = books['First published'][i][0:4]\n",
    "books['First published'] = books['First published'].astype(int)\n"
   ]
  },
  {
   "cell_type": "code",
   "execution_count": 125,
   "id": "372b83fc-e86a-4e01-9535-a9b5262ad527",
   "metadata": {},
   "outputs": [
    {
     "data": {
      "image/png": "[encoded data removed]",
      "text/plain": [
       "<Figure size 640x480 with 1 Axes>"
      ]
     },
     "metadata": {},
     "output_type": "display_data"
    }
   ],
   "source": [
    "sns.histplot(books['First published'])\n",
    "plt.grid()\n"
   ]
  },
  {
   "cell_type": "markdown",
   "id": "c6c7642f-75e4-4a42-bc10-0c8c79681d9a",
   "metadata": {},
   "source": [
    "### Top 5 BOOKS with Maximun Sales in MILLION"
   ]
  },
  {
   "cell_type": "code",
   "execution_count": 129,
   "id": "ed782d12-6211-418b-8f7c-ee2af76ddfd8",
   "metadata": {},
   "outputs": [
    {
     "data": {
      "text/html": [
       "<div>\n",
       "<style scoped>\n",
       "    .dataframe tbody tr th:only-of-type {\n",
       "        vertical-align: middle;\n",
       "    }\n",
       "\n",
       "    .dataframe tbody tr th {\n",
       "        vertical-align: top;\n",
       "    }\n",
       "\n",
       "    .dataframe thead th {\n",
       "        text-align: right;\n",
       "    }\n",
       "</style>\n",
       "<table border=\"1\" class=\"dataframe\">\n",
       "  <thead>\n",
       "    <tr style=\"text-align: right;\">\n",
       "      <th></th>\n",
       "      <th>Book</th>\n",
       "      <th>Author(s)</th>\n",
       "      <th>Original language</th>\n",
       "      <th>First published</th>\n",
       "      <th>Approximate sales</th>\n",
       "      <th>Genre</th>\n",
       "      <th>sales</th>\n",
       "    </tr>\n",
       "  </thead>\n",
       "  <tbody>\n",
       "    <tr>\n",
       "      <th>0</th>\n",
       "      <td>A Tale of Two Cities</td>\n",
       "      <td>Charles Dickens</td>\n",
       "      <td>English</td>\n",
       "      <td>1859</td>\n",
       "      <td>&gt;200 million[20][circular reporting?]</td>\n",
       "      <td>Historical fiction</td>\n",
       "      <td>200</td>\n",
       "    </tr>\n",
       "    <tr>\n",
       "      <th>1</th>\n",
       "      <td>The Little Prince (Le Petit Prince)</td>\n",
       "      <td>Antoine de Saint-Exupéry</td>\n",
       "      <td>French</td>\n",
       "      <td>1943</td>\n",
       "      <td>200 million[21][22]</td>\n",
       "      <td>Fantasy, Children's fiction</td>\n",
       "      <td>200</td>\n",
       "    </tr>\n",
       "    <tr>\n",
       "      <th>2</th>\n",
       "      <td>Harry Potter and the Philosopher's Stone</td>\n",
       "      <td>J. K. Rowling</td>\n",
       "      <td>English</td>\n",
       "      <td>1997</td>\n",
       "      <td>120 million[23][24]</td>\n",
       "      <td>Fantasy, Children's fiction</td>\n",
       "      <td>120</td>\n",
       "    </tr>\n",
       "    <tr>\n",
       "      <th>3</th>\n",
       "      <td>And Then There Were None</td>\n",
       "      <td>Agatha Christie</td>\n",
       "      <td>English</td>\n",
       "      <td>1939</td>\n",
       "      <td>100 million[25]</td>\n",
       "      <td>Mystery</td>\n",
       "      <td>100</td>\n",
       "    </tr>\n",
       "    <tr>\n",
       "      <th>4</th>\n",
       "      <td>Dream of the Red Chamber (???)</td>\n",
       "      <td>Cao Xueqin</td>\n",
       "      <td>Chinese</td>\n",
       "      <td>1791</td>\n",
       "      <td>100 million[26][27]</td>\n",
       "      <td>Family saga</td>\n",
       "      <td>100</td>\n",
       "    </tr>\n",
       "  </tbody>\n",
       "</table>\n",
       "</div>"
      ],
      "text/plain": [
       "                                       Book                 Author(s)  \\\n",
       "0                      A Tale of Two Cities           Charles Dickens   \n",
       "1       The Little Prince (Le Petit Prince)  Antoine de Saint-Exupéry   \n",
       "2  Harry Potter and the Philosopher's Stone             J. K. Rowling   \n",
       "3                  And Then There Were None           Agatha Christie   \n",
       "4            Dream of the Red Chamber (???)                Cao Xueqin   \n",
       "\n",
       "  Original language  First published                      Approximate sales  \\\n",
       "0           English             1859  >200 million[20][circular reporting?]   \n",
       "1            French             1943                    200 million[21][22]   \n",
       "2           English             1997                    120 million[23][24]   \n",
       "3           English             1939                        100 million[25]   \n",
       "4           Chinese             1791                    100 million[26][27]   \n",
       "\n",
       "                         Genre  sales  \n",
       "0           Historical fiction    200  \n",
       "1  Fantasy, Children's fiction    200  \n",
       "2  Fantasy, Children's fiction    120  \n",
       "3                      Mystery    100  \n",
       "4                  Family saga    100  "
      ]
     },
     "execution_count": 129,
     "metadata": {},
     "output_type": "execute_result"
    }
   ],
   "source": [
    "books.sort_values(by = 'sales',ascending=False).head(5)"
   ]
  },
  {
   "cell_type": "code",
   "execution_count": 132,
   "id": "fa0bd85e-1c58-42ca-b890-74e89f342032",
   "metadata": {},
   "outputs": [],
   "source": [
    "books.rename(columns = {'sales':'Sales_in_Millions'},inplace = True)"
   ]
  },
  {
   "cell_type": "code",
   "execution_count": 133,
   "id": "10513590-280d-4a0d-a166-b8ebf3cbf309",
   "metadata": {},
   "outputs": [
    {
     "data": {
      "text/html": [
       "<div>\n",
       "<style scoped>\n",
       "    .dataframe tbody tr th:only-of-type {\n",
       "        vertical-align: middle;\n",
       "    }\n",
       "\n",
       "    .dataframe tbody tr th {\n",
       "        vertical-align: top;\n",
       "    }\n",
       "\n",
       "    .dataframe thead th {\n",
       "        text-align: right;\n",
       "    }\n",
       "</style>\n",
       "<table border=\"1\" class=\"dataframe\">\n",
       "  <thead>\n",
       "    <tr style=\"text-align: right;\">\n",
       "      <th></th>\n",
       "      <th>Book</th>\n",
       "      <th>Author(s)</th>\n",
       "      <th>Original language</th>\n",
       "      <th>First published</th>\n",
       "      <th>Approximate sales</th>\n",
       "      <th>Genre</th>\n",
       "      <th>Sales_in_Millions</th>\n",
       "    </tr>\n",
       "  </thead>\n",
       "  <tbody>\n",
       "    <tr>\n",
       "      <th>0</th>\n",
       "      <td>A Tale of Two Cities</td>\n",
       "      <td>Charles Dickens</td>\n",
       "      <td>English</td>\n",
       "      <td>1859</td>\n",
       "      <td>&gt;200 million[20][circular reporting?]</td>\n",
       "      <td>Historical fiction</td>\n",
       "      <td>200</td>\n",
       "    </tr>\n",
       "    <tr>\n",
       "      <th>1</th>\n",
       "      <td>The Little Prince (Le Petit Prince)</td>\n",
       "      <td>Antoine de Saint-Exupéry</td>\n",
       "      <td>French</td>\n",
       "      <td>1943</td>\n",
       "      <td>200 million[21][22]</td>\n",
       "      <td>Fantasy, Children's fiction</td>\n",
       "      <td>200</td>\n",
       "    </tr>\n",
       "    <tr>\n",
       "      <th>2</th>\n",
       "      <td>Harry Potter and the Philosopher's Stone</td>\n",
       "      <td>J. K. Rowling</td>\n",
       "      <td>English</td>\n",
       "      <td>1997</td>\n",
       "      <td>120 million[23][24]</td>\n",
       "      <td>Fantasy, Children's fiction</td>\n",
       "      <td>120</td>\n",
       "    </tr>\n",
       "    <tr>\n",
       "      <th>3</th>\n",
       "      <td>And Then There Were None</td>\n",
       "      <td>Agatha Christie</td>\n",
       "      <td>English</td>\n",
       "      <td>1939</td>\n",
       "      <td>100 million[25]</td>\n",
       "      <td>Mystery</td>\n",
       "      <td>100</td>\n",
       "    </tr>\n",
       "    <tr>\n",
       "      <th>4</th>\n",
       "      <td>Dream of the Red Chamber (???)</td>\n",
       "      <td>Cao Xueqin</td>\n",
       "      <td>Chinese</td>\n",
       "      <td>1791</td>\n",
       "      <td>100 million[26][27]</td>\n",
       "      <td>Family saga</td>\n",
       "      <td>100</td>\n",
       "    </tr>\n",
       "  </tbody>\n",
       "</table>\n",
       "</div>"
      ],
      "text/plain": [
       "                                       Book                 Author(s)  \\\n",
       "0                      A Tale of Two Cities           Charles Dickens   \n",
       "1       The Little Prince (Le Petit Prince)  Antoine de Saint-Exupéry   \n",
       "2  Harry Potter and the Philosopher's Stone             J. K. Rowling   \n",
       "3                  And Then There Were None           Agatha Christie   \n",
       "4            Dream of the Red Chamber (???)                Cao Xueqin   \n",
       "\n",
       "  Original language  First published                      Approximate sales  \\\n",
       "0           English             1859  >200 million[20][circular reporting?]   \n",
       "1            French             1943                    200 million[21][22]   \n",
       "2           English             1997                    120 million[23][24]   \n",
       "3           English             1939                        100 million[25]   \n",
       "4           Chinese             1791                    100 million[26][27]   \n",
       "\n",
       "                         Genre  Sales_in_Millions  \n",
       "0           Historical fiction                200  \n",
       "1  Fantasy, Children's fiction                200  \n",
       "2  Fantasy, Children's fiction                120  \n",
       "3                      Mystery                100  \n",
       "4                  Family saga                100  "
      ]
     },
     "execution_count": 133,
     "metadata": {},
     "output_type": "execute_result"
    }
   ],
   "source": [
    "books.head()"
   ]
  },
  {
   "cell_type": "code",
   "execution_count": null,
   "id": "2fbb9959-6e63-46bd-9773-646a998efd6e",
   "metadata": {},
   "outputs": [],
   "source": []
  }
 ],
 "metadata": {
  "kernelspec": {
   "display_name": "Python 3 (ipykernel)",
   "language": "python",
   "name": "python3"
  },
  "language_info": {
   "codemirror_mode": {
    "name": "ipython",
    "version": 3
   },
   "file_extension": ".py",
   "mimetype": "text/x-python",
   "name": "python",
   "nbconvert_exporter": "python",
   "pygments_lexer": "ipython3",
   "version": "3.12.1"
  }
 },
 "nbformat": 4,
 "nbformat_minor": 5
}
